{
 "cells": [
  {
   "cell_type": "markdown",
   "metadata": {},
   "source": [
    "## PCA"
   ]
  },
  {
   "cell_type": "code",
   "execution_count": 54,
   "metadata": {},
   "outputs": [
    {
     "name": "stdout",
     "output_type": "stream",
     "text": [
      "sss\n"
     ]
    }
   ],
   "source": [
    "import numpy as np\n",
    "\n",
    "A =np.random.rand(30,10)\n",
    "A=A.T\n",
    "if A.shape[1]>100:\n",
    "    pca = PCA(5)  # reduce the dimention to 250 for example\n",
    "    projected = pca.fit_transform(A)\n",
    "    print(A.shape)\n",
    "    print(projected.shape)\n",
    "    pro = projected.T \n",
    "    print(pro.shape)\n",
    "else:\n",
    "    print('sss')\n"
   ]
  },
  {
   "cell_type": "code",
   "execution_count": 15,
   "metadata": {},
   "outputs": [],
   "source": [
    "from sklearn.decomposition import PCA\n",
    "\n",
    "A =np.random.rand(30,10)\n",
    "A_1 =A.T\n",
    "if A_1.shape[1]>200:\n",
    "    pca = PCA(5)  # reduce the dimension of the data to 250 \n",
    "    projected = pca.fit_transform(A_1)\n",
    "    A_1=projected.T\n",
    "    "
   ]
  },
  {
   "cell_type": "code",
   "execution_count": 16,
   "metadata": {},
   "outputs": [
    {
     "data": {
      "text/plain": [
       "(10, 30)"
      ]
     },
     "execution_count": 16,
     "metadata": {},
     "output_type": "execute_result"
    }
   ],
   "source": [
    "A_1.shape"
   ]
  },
  {
   "cell_type": "code",
   "execution_count": 81,
   "metadata": {},
   "outputs": [],
   "source": [
    "def PCA_SP(A):\n",
    "    if A.shape[0]>200:\n",
    "        A =A.T\n",
    "        pca = PCA(min(200,A.shape[0]))  # reduce the dimension of the data to 250 \n",
    "        projected = pca.fit_transform(A)\n",
    "        A=projected.T\n",
    "    return A.shape"
   ]
  },
  {
   "cell_type": "code",
   "execution_count": 79,
   "metadata": {},
   "outputs": [],
   "source": [
    "A =np.random.rand(300,1500)\n"
   ]
  },
  {
   "cell_type": "code",
   "execution_count": 80,
   "metadata": {},
   "outputs": [
    {
     "data": {
      "text/plain": [
       "(200, 1500)"
      ]
     },
     "execution_count": 80,
     "metadata": {},
     "output_type": "execute_result"
    }
   ],
   "source": [
    "PCA_SP(A)"
   ]
  },
  {
   "cell_type": "code",
   "execution_count": 40,
   "metadata": {},
   "outputs": [
    {
     "data": {
      "text/plain": [
       "300"
      ]
     },
     "execution_count": 40,
     "metadata": {},
     "output_type": "execute_result"
    }
   ],
   "source": [
    "A.shape[0]"
   ]
  },
  {
   "cell_type": "markdown",
   "metadata": {},
   "source": [
    "## Efficient SP Algorithm"
   ]
  },
  {
   "cell_type": "code",
   "execution_count": 35,
   "metadata": {},
   "outputs": [],
   "source": [
    "import numpy as np\n",
    "from sklearn.decomposition import TruncatedSVD\n",
    "\n",
    "from sklearn.decomposition import PCA\n",
    "\n",
    "\n",
    "def SP(data, K):\n",
    "    A = data\n",
    "\n",
    "    indices = np.random.choice(range(data.shape[1]), K, replace=False)\n",
    "    indices = indices.astype(int)\n",
    "    iter = 0\n",
    "\n",
    "    for iter in range(0, K):\n",
    "        k = iter % K\n",
    "        inds = np.delete(np.copy(indices), k)\n",
    "        A3 = A[:, inds]\n",
    "        At = A - np.matmul(np.matmul(A3, np.linalg.pinv(np.matmul(np.transpose(A3), A3))),\n",
    "                           np.matmul(np.transpose(A3), A))\n",
    "        \n",
    "\n",
    "        # Compute just the first column from U and V\n",
    "        svd = TruncatedSVD(n_components=1)\n",
    "        svd.fit(np.transpose(At))\n",
    "        # [U, S, V] = np.linalg.svd(At, full_matrices=False)\n",
    "        # u1 = U[:, 0]\n",
    "        # v = V[:, 1]\n",
    "        u = svd.components_.reshape(-1)\n",
    "        N = np.linalg.norm(At, axis=0)\n",
    "        N = np.where(N==0, 1, N)\n",
    "        B = At / N\n",
    "        B = np.transpose(B)\n",
    "\n",
    "        Cr = np.abs(np.matmul(B, u))\n",
    "        # ind = np.argsort(Cr)[::-1]\n",
    "        # p = ind[0]\n",
    "        p = np.argsort(Cr)[-1]\n",
    "        indices[k] = p\n",
    "    return indices"
   ]
  },
  {
   "cell_type": "markdown",
   "metadata": {},
   "source": [
    "## NSP Algorithm"
   ]
  },
  {
   "cell_type": "code",
   "execution_count": 3,
   "metadata": {},
   "outputs": [],
   "source": [
    "from sklearn.decomposition import TruncatedSVD\n",
    "\n",
    "# A is the matrix of data\n",
    "# Always set TR=1\n",
    "# K is the number of samples that we want to choose from the columns of matrix A...\n",
    "# These samples are the ones that we prune.\n",
    "\n",
    "\n",
    "def NSP(A,K,TR):\n",
    "    svd = TruncatedSVD(n_components=TR)\n",
    "    svd.fit(A.T)\n",
    "    u = svd.components_.T\n",
    "    P=np.eye(A.shape[0])-np.matmul(u,np.linalg.pinv(u))\n",
    "    At=np.matmul(P,A)\n",
    "    x=(At**2).sum(axis=0)\n",
    "    ind=np.argsort(-np.asarray(x))\n",
    "    ind_sel=ind[0:K]\n",
    "    return ind_sel\n"
   ]
  },
  {
   "cell_type": "code",
   "execution_count": 50,
   "metadata": {},
   "outputs": [],
   "source": [
    "import numpy as np\n",
    "A=np.random.rand(200,64)\n"
   ]
  },
  {
   "cell_type": "code",
   "execution_count": null,
   "metadata": {},
   "outputs": [],
   "source": []
  },
  {
   "cell_type": "code",
   "execution_count": 5,
   "metadata": {},
   "outputs": [],
   "source": [
    "num= range(0, 100)\n"
   ]
  },
  {
   "cell_type": "code",
   "execution_count": 36,
   "metadata": {},
   "outputs": [],
   "source": [
    "\n",
    "\n",
    "\n",
    "def NSP(A,K,TR=3):\n",
    "    svd = TruncatedSVD(n_components=TR)\n",
    "    svd.fit(A.T)\n",
    "    u = svd.components_.T\n",
    "    P=np.eye(A.shape[0])-np.matmul(u,np.linalg.pinv(u))\n",
    "    At=np.matmul(P,A)\n",
    "    x=(At**2).sum(axis=0)\n",
    "    ind=np.argsort(-np.asarray(x))\n",
    "    ind_sel=ind[0:K]\n",
    "    return ind_sel\n",
    "\n",
    "def RND(A, K):\n",
    "    num_col = A.shape[1]\n",
    "    indices = np.random.choice(range(num_col), K, replace=False)\n",
    "    return indices\n",
    "\n",
    "\n",
    "\n",
    "\n",
    "def NewSP(data, K):\n",
    "    A = data\n",
    "\n",
    "    indices = np.random.choice(range(data.shape[1]), K, replace=False)\n",
    "    indices = indices.astype(int)\n",
    "    iter = 0\n",
    "\n",
    "    for iter in range(0, K):\n",
    "        k = iter % K\n",
    "        inds = np.delete(np.copy(indices), k)\n",
    "        A3 = A[:, inds]\n",
    "        At = A - np.matmul(np.matmul(A3, np.linalg.pinv(np.matmul(np.transpose(A3), A3))),\n",
    "                           np.matmul(np.transpose(A3), A))\n",
    "        \n",
    "\n",
    "        # Compute just the first column from U and V\n",
    "        svd = TruncatedSVD(n_components=1)\n",
    "        svd.fit(np.transpose(At))\n",
    "        # [U, S, V] = np.linalg.svd(At, full_matrices=False)\n",
    "        # u1 = U[:, 0]\n",
    "        # v = V[:, 1]\n",
    "        u = svd.components_.reshape(-1)\n",
    "        N = np.linalg.norm(At, axis=0)\n",
    "        N = np.where(N==0, 1, N)\n",
    "        B = At / N\n",
    "        B = np.transpose(B)\n",
    "\n",
    "        Cr = np.abs(np.matmul(B, u))\n",
    "        # ind = np.argsort(Cr)[::-1]\n",
    "        # p = ind[0]\n",
    "        p = np.argsort(Cr)[-1]\n",
    "        indices[k] = p\n",
    "    seq = [number for number in range(A.shape[1])]\n",
    "    ind=np.delete(seq,indices)\n",
    "    return ind\n",
    "    "
   ]
  },
  {
   "cell_type": "code",
   "execution_count": 45,
   "metadata": {},
   "outputs": [
    {
     "data": {
      "text/plain": [
       "array([[1, 2, 2],\n",
       "       [1, 5, 2],\n",
       "       [2, 9, 4]])"
      ]
     },
     "execution_count": 45,
     "metadata": {},
     "output_type": "execute_result"
    }
   ],
   "source": [
    "A=np.array([[1,2,2],[1,5,2],[2,9,4]])\n",
    "A"
   ]
  },
  {
   "cell_type": "code",
   "execution_count": 64,
   "metadata": {},
   "outputs": [
    {
     "data": {
      "text/plain": [
       "array([53,  0, 47])"
      ]
     },
     "execution_count": 64,
     "metadata": {},
     "output_type": "execute_result"
    }
   ],
   "source": [
    "SP(A,3)\n"
   ]
  },
  {
   "cell_type": "code",
   "execution_count": null,
   "metadata": {},
   "outputs": [],
   "source": []
  },
  {
   "cell_type": "code",
   "execution_count": 60,
   "metadata": {},
   "outputs": [
    {
     "name": "stdout",
     "output_type": "stream",
     "text": [
      "[ 8 31 63]\n",
      "[ 0  1  2  3  4  5  6  7  9 10 11 12 13 14 15 16 17 18 19 20 21 22 23 24\n",
      " 25 26 27 28 29 30 32 33 34 35 36 37 38 39 40 41 42 43 44 45 46 47 48 49\n",
      " 50 51 52 53 54 55 56 57 58 59 60 61 62]\n"
     ]
    },
    {
     "data": {
      "text/plain": [
       "array([ 0,  1,  2,  3,  4,  5,  6,  7,  9, 10, 11, 12, 13, 14, 15, 16, 17,\n",
       "       18, 19, 20, 21, 22, 23, 24, 25, 26, 27, 28, 29, 30, 32, 33, 34, 35,\n",
       "       36, 37, 38, 39, 40, 41, 42, 43, 44, 45, 46, 47, 48, 49, 50, 51, 52,\n",
       "       53, 54, 55, 56, 57, 58, 59, 60, 61, 62])"
      ]
     },
     "execution_count": 60,
     "metadata": {},
     "output_type": "execute_result"
    }
   ],
   "source": [
    "NewSP(A,3)"
   ]
  },
  {
   "cell_type": "code",
   "execution_count": 27,
   "metadata": {},
   "outputs": [
    {
     "data": {
      "text/plain": [
       "64"
      ]
     },
     "execution_count": 27,
     "metadata": {},
     "output_type": "execute_result"
    }
   ],
   "source": [
    "A.shape[1]"
   ]
  },
  {
   "cell_type": "code",
   "execution_count": 30,
   "metadata": {},
   "outputs": [
    {
     "data": {
      "text/plain": [
       "[0,\n",
       " 1,\n",
       " 2,\n",
       " 3,\n",
       " 4,\n",
       " 5,\n",
       " 6,\n",
       " 7,\n",
       " 8,\n",
       " 9,\n",
       " 10,\n",
       " 11,\n",
       " 12,\n",
       " 13,\n",
       " 14,\n",
       " 15,\n",
       " 16,\n",
       " 17,\n",
       " 18,\n",
       " 19,\n",
       " 20,\n",
       " 21,\n",
       " 22,\n",
       " 23,\n",
       " 24,\n",
       " 25,\n",
       " 26,\n",
       " 27,\n",
       " 28,\n",
       " 29,\n",
       " 30,\n",
       " 31,\n",
       " 32,\n",
       " 33,\n",
       " 34,\n",
       " 35,\n",
       " 36,\n",
       " 37,\n",
       " 38,\n",
       " 39,\n",
       " 40,\n",
       " 41,\n",
       " 42,\n",
       " 43,\n",
       " 44,\n",
       " 45,\n",
       " 46,\n",
       " 47,\n",
       " 48,\n",
       " 49,\n",
       " 50,\n",
       " 51,\n",
       " 52,\n",
       " 53,\n",
       " 54,\n",
       " 55,\n",
       " 56,\n",
       " 57,\n",
       " 58,\n",
       " 59,\n",
       " 60,\n",
       " 61,\n",
       " 62,\n",
       " 63]"
      ]
     },
     "execution_count": 30,
     "metadata": {},
     "output_type": "execute_result"
    }
   ],
   "source": [
    "seq = [number for number in range(A.shape[1])]\n",
    "    "
   ]
  },
  {
   "cell_type": "code",
   "execution_count": 89,
   "metadata": {},
   "outputs": [],
   "source": [
    "\n",
    "import numpy as np\n",
    "from sklearn.decomposition import TruncatedSVD\n",
    "\n",
    "from sklearn.decomposition import PCA\n",
    "\n",
    "\n",
    "def SP(data, K):\n",
    "    A = data\n",
    "\n",
    "    indices = np.random.choice(range(data.shape[1]), K, replace=False)\n",
    "    indices = indices.astype(int)\n",
    "\n",
    "    for i in range(0, K):\n",
    "        k = i % K\n",
    "        inds = np.delete(np.copy(indices), k)\n",
    "        A3 = A[:, inds]\n",
    "        At = A - np.matmul(np.matmul(A3, np.linalg.pinv(np.matmul(np.transpose(A3), A3))),\n",
    "                           np.matmul(np.transpose(A3), A))\n",
    "        \n",
    "\n",
    "        # Compute just the first column from U and V\n",
    "        svd = TruncatedSVD(n_components=1)\n",
    "        svd.fit(np.transpose(At))\n",
    "        # [U, S, V] = np.linalg.svd(At, full_matrices=False)\n",
    "        # u1 = U[:, 0]\n",
    "        # v = V[:, 1]\n",
    "        u = svd.components_.reshape(-1)\n",
    "        N = np.linalg.norm(At, axis=0)\n",
    "        N = np.where(N==0, 1, N)\n",
    "        B = At / N\n",
    "        B = np.transpose(B)\n",
    "\n",
    "        Cr = np.abs(np.matmul(B, u))\n",
    "        # ind = np.argsort(Cr)[::-1]\n",
    "        # p = ind[0]\n",
    "        p = np.argsort(Cr)[-1]\n",
    "        indices[k] = p\n",
    "    return indices\n",
    "\n",
    "# Applying PCA to reduce the dimension\n",
    "\n",
    "def PCA_SP(A,K):\n",
    "    if A.shape[0]>200:\n",
    "        A =A.T\n",
    "        pca = PCA(30)  # reduce the dimension of the data  \n",
    "        projected = pca.fit_transform(A)\n",
    "        A=projected.T\n",
    "        print(A.shape)\n",
    "    return SP(A, K)"
   ]
  },
  {
   "cell_type": "code",
   "execution_count": 90,
   "metadata": {},
   "outputs": [
    {
     "name": "stdout",
     "output_type": "stream",
     "text": [
      "(30, 200)\n"
     ]
    },
    {
     "data": {
      "text/plain": [
       "array([135, 164,  95,   4, 171])"
      ]
     },
     "execution_count": 90,
     "metadata": {},
     "output_type": "execute_result"
    }
   ],
   "source": [
    "A=np.random.rand(300,200)\n",
    "PCA_SP(A,5)"
   ]
  },
  {
   "cell_type": "code",
   "execution_count": 86,
   "metadata": {},
   "outputs": [
    {
     "data": {
      "text/plain": [
       "(300, 200)"
      ]
     },
     "execution_count": 86,
     "metadata": {},
     "output_type": "execute_result"
    }
   ],
   "source": [
    "A.shape"
   ]
  },
  {
   "cell_type": "code",
   "execution_count": null,
   "metadata": {},
   "outputs": [],
   "source": []
  }
 ],
 "metadata": {
  "kernelspec": {
   "display_name": "Python 3",
   "language": "python",
   "name": "python3"
  },
  "language_info": {
   "codemirror_mode": {
    "name": "ipython",
    "version": 3
   },
   "file_extension": ".py",
   "mimetype": "text/x-python",
   "name": "python",
   "nbconvert_exporter": "python",
   "pygments_lexer": "ipython3",
   "version": "3.7.3"
  }
 },
 "nbformat": 4,
 "nbformat_minor": 2
}
